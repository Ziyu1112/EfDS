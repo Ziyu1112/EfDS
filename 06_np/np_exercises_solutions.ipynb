{
 "cells": [
  {
   "cell_type": "markdown",
   "source": [
    "## Exercises"
   ],
   "metadata": {
    "collapsed": false
   }
  },
  {
   "cell_type": "code",
   "execution_count": null,
   "outputs": [],
   "source": [
    "import numpy as np"
   ],
   "metadata": {
    "collapsed": false
   }
  },
  {
   "cell_type": "markdown",
   "source": [
    "### Create arrays"
   ],
   "metadata": {
    "collapsed": false
   }
  },
  {
   "cell_type": "markdown",
   "source": [
    "- 1-dimensional array over the range 11, 14, 17, 20, ..., 50. In addition show the type, size, shape and number of dimensions of the array."
   ],
   "metadata": {
    "collapsed": false
   }
  },
  {
   "cell_type": "code",
   "execution_count": null,
   "outputs": [],
   "source": [
    "arr1d = np.arange(11, 51, 3)\n",
    "arr1d.dtype\n",
    "arr1d.size\n",
    "arr1d.shape\n",
    "arr1d.ndim"
   ],
   "metadata": {
    "collapsed": false
   }
  },
  {
   "cell_type": "markdown",
   "source": [
    "- 2-dimensional array of boolean type with shape=(5,3) and all set to True."
   ],
   "metadata": {
    "collapsed": false
   }
  },
  {
   "cell_type": "code",
   "execution_count": null,
   "outputs": [],
   "source": [
    "np.ones((5,3),dtype=bool)"
   ],
   "metadata": {
    "collapsed": false
   }
  },
  {
   "cell_type": "markdown",
   "source": [
    "- 2-dimensional array of shape=(9,3) of the alphabet a..z. Pad with empty string \"\" to fit the shape."
   ],
   "metadata": {
    "collapsed": false
   }
  },
  {
   "cell_type": "code",
   "execution_count": null,
   "outputs": [],
   "source": [
    "np.array(list('abcdefghijklmnopqrstuvwxyz') + [\"\"]).reshape(9,-1)"
   ],
   "metadata": {
    "collapsed": false
   }
  },
  {
   "cell_type": "markdown",
   "source": [
    "- 2-dimensional array of shape=(5,6) filled with '***'. Hint: see *numpy.full*."
   ],
   "metadata": {
    "collapsed": false
   }
  },
  {
   "cell_type": "code",
   "execution_count": null,
   "outputs": [],
   "source": [
    "np.full((5,5),'***')"
   ],
   "metadata": {
    "collapsed": false
   }
  },
  {
   "cell_type": "markdown",
   "source": [
    "## Array indices\n",
    "\n",
    "The exercises below cover array access and assignments using indices."
   ],
   "metadata": {
    "collapsed": false
   }
  },
  {
   "cell_type": "markdown",
   "source": [
    "- Given the 2-dimensional array *arr2d* below, fetch the following elements\n",
    "    - fetch single elements:  'a', 'f'\n",
    "    - fetch [c,d] on axis-0\n",
    "    - fetch [b,d,f] on axis-1"
   ],
   "metadata": {
    "collapsed": false
   }
  },
  {
   "cell_type": "code",
   "execution_count": null,
   "outputs": [],
   "source": [
    "arr2d = np.array(list(\"abcdef\")).reshape(3,2)\n",
    "arr2d[0,0]\n",
    "arr2d[2,1]\n",
    "arr2d[1,:]\n",
    "arr2d[:,1]"
   ],
   "metadata": {
    "collapsed": false
   }
  },
  {
   "cell_type": "markdown",
   "source": [
    "- Given the 3-dimensional array arr3d:\n",
    "    - fetch:\n",
    "        - [[19,20],[22,23]]\n",
    "        - [[9,12,15],[11,14,17]]\n",
    "    - swap\n",
    "        - on axis-0 the 2nd and the 3rd elements\n",
    "        - the 1st and the 3rd element of all elements on axis-0\n",
    "        - repeat the previous swap but now only on the 1st element of axis-0"
   ],
   "metadata": {
    "collapsed": false
   }
  },
  {
   "cell_type": "code",
   "execution_count": null,
   "outputs": [],
   "source": [
    "arr3d = np.arange(3*3*3).reshape(3,3,3)\n",
    "arr3d[2,:2,1:]\n",
    "arr3d[1,:,[0,2]]\n",
    "arr3d[[0,2,1]]\n",
    "arr3d[:,[2,1,0],:]\n",
    "np.stack([arr3d[0], arr3d[1,[2,1,0],:],arr3d[2]])"
   ],
   "metadata": {
    "collapsed": false
   }
  },
  {
   "cell_type": "markdown",
   "source": [
    "- Implement the function *identity(n)* that generates the identity matrix of size *n*."
   ],
   "metadata": {
    "collapsed": false
   }
  },
  {
   "cell_type": "code",
   "execution_count": null,
   "outputs": [],
   "source": [
    "def identity(n):\n",
    "    \"\"\"\n",
    "    :param n:\n",
    "    :return: identity matrix of size n\n",
    "    \"\"\"\n",
    "    im = np.zeros((n,n))\n",
    "    idx = np.arange(n)\n",
    "    im[idx,idx] = 1\n",
    "    return im"
   ],
   "metadata": {
    "collapsed": false
   }
  },
  {
   "cell_type": "markdown",
   "source": [
    "- 3-dimensional array of shape=(3,2,3) of the range *0..n*. Set the odd values to -1."
   ],
   "metadata": {
    "collapsed": false
   }
  },
  {
   "cell_type": "code",
   "execution_count": null,
   "outputs": [],
   "source": [
    "arr3d = np.arange(3*2*3).reshape(3,2,3)\n",
    "arr3d[arr3d % 2 != 0] = -1\n",
    "arr3d"
   ],
   "metadata": {
    "collapsed": false
   }
  },
  {
   "cell_type": "markdown",
   "source": [
    "- produce the following array (ref: numpy.repeat, numpy.tile) :\n",
    "\n",
    " <tt> [5, 5, 5, 3, 3, 3, 5, 7, 5, 7, 5, 7]</tt>"
   ],
   "metadata": {
    "collapsed": false
   }
  },
  {
   "cell_type": "code",
   "execution_count": null,
   "outputs": [],
   "source": [
    "np.concatenate((np.repeat([5,3],3), np.tile([5,7],3)))"
   ],
   "metadata": {
    "collapsed": false
   }
  },
  {
   "cell_type": "markdown",
   "source": [
    "## Random generator"
   ],
   "metadata": {
    "collapsed": false
   }
  },
  {
   "cell_type": "code",
   "execution_count": null,
   "outputs": [],
   "source": [
    "from numpy.random import default_rng\n",
    "rng = default_rng(1234)"
   ],
   "metadata": {
    "collapsed": false
   }
  },
  {
   "cell_type": "markdown",
   "source": [
    "Create a 1-dimensional array of random integers, range [0,100), of size 20. Test (True or False) whether the array contains any odd integers. Finally, count the number of odd integers."
   ],
   "metadata": {
    "collapsed": false
   }
  },
  {
   "cell_type": "code",
   "execution_count": null,
   "outputs": [],
   "source": [
    "arr1d = rng.integers(100, size=5)  # 5 random integers out of [0,100)\n",
    "(arr1d % 2 != 0).any()             # any odd number?\n",
    "(arr1d % 2 != 0).sum()             # any odd number?"
   ],
   "metadata": {
    "collapsed": false
   }
  },
  {
   "cell_type": "markdown",
   "source": [
    "## Summary\n",
    "\n",
    "1. Create a two-dimensional array of random integers over the range [0,100) with shape (8,4).\n",
    "2. Calculate the following summaries on axis=0:\n",
    "\n",
    "    - minimum, maximum, mean and median\n",
    "    - 1st and 3rd quartile.\n",
    "\n",
    "3. Write the function *summary* which takes a 2-dimensional array as input and produces an R like summary as shone below:\n",
    "\n",
    "```\n",
    "       0              1               2               3\n",
    " Min.   :13.0   Min.   :24.00   Min.   :10.00   Min.   :11.00\n",
    " 1st Qu.:42.5   1st Qu.:40.75   1st Qu.:46.00   1st Qu.:26.00\n",
    " Median :67.0   Median :76.50   Median :71.00   Median :34.50\n",
    " Mean   :60.0   Mean   :67.12   Mean   :64.75   Mean   :42.88\n",
    " 3rd Qu.:81.5   3rd Qu.:93.00   3rd Qu.:95.00   3rd Qu.:61.25\n",
    " Max.   :97.0   Max.   :97.00   Max.   :98.00   Max.   :86.00\n",
    "```"
   ],
   "metadata": {
    "collapsed": false
   }
  },
  {
   "cell_type": "code",
   "execution_count": null,
   "outputs": [],
   "source": [
    "# 1)\n",
    "arr2d = rng.integers(0,100,size=(8,4))\n",
    "# 2)\n",
    "np.min(arr2d,axis=0)\n",
    "np.max(arr2d,axis=0)\n",
    "np.mean(arr2d,axis=0)\n",
    "np.median(arr2d,axis=0)\n",
    "np.quantile(arr2d,0.25, axis=0)\n",
    "np.quantile(arr2d,0.75, axis=0)"
   ],
   "metadata": {
    "collapsed": false
   }
  },
  {
   "cell_type": "code",
   "execution_count": null,
   "outputs": [],
   "source": [
    "# Solutions 1\n",
    "# Here only the NumPy aggregate functions part is implemented and the data is returned\n",
    "# as NumPy array.\n",
    "\n",
    "def summary(x):\n",
    "    \"\"\"\n",
    "    Report a summary for each variable (column) in the 2-dimensional array. The summary includes\n",
    "    minimum, first quartile, median, mean, third quartile and maximum.\n",
    "\n",
    "    :param x: 2-dimensional array\n",
    "    :return: 2-dimensional array of summaries per aggregate\n",
    "    \"\"\"\n",
    "    if x.ndim == 2:\n",
    "        aggregates = np.stack( [np.min(x,axis=0),              # minimum\n",
    "                                np.quantile(x, 0.25, axis=0),  # 1st quartile\n",
    "                                np.median(x,axis=0),           # 2nd quartile\n",
    "                                np.mean(x,axis=0),             # mean\n",
    "                                np.quantile(x, 0.75, axis=0),  # 3rd quartile\n",
    "                                np.max(x,axis=0)],             # maximum\n",
    "                               axis=0)\n",
    "\n",
    "        return aggregates\n",
    "    else:\n",
    "        raise Exception(\"Only 2-dimensional arrays are supported !\")"
   ],
   "metadata": {
    "collapsed": false
   }
  },
  {
   "cell_type": "code",
   "execution_count": null,
   "outputs": [],
   "source": [
    "# Solutions 2\n",
    "# Here the summaries are calculated and the results are formatted and printed on screen.\n",
    "#\n",
    "import math\n",
    "\n",
    "def summary(x):\n",
    "    \"\"\"\n",
    "    Report a summary for each variable (column) in the 2-dimensional array. The summary includes\n",
    "    minimum, first quartile, median, mean, third quartile and maximum.\n",
    "\n",
    "    :param x: 2-dimensional array\n",
    "    :return: None\n",
    "    \"\"\"\n",
    "    if x.ndim == 2:\n",
    "        tags = [\"Min.   \", \"1st Qu.\", \"Median \", \"Mean   \", \"3rd Qu.\", \"Max.   \"]\n",
    "        aggregates = np.stack( [np.min(x,axis=0),              # minimum\n",
    "                                np.quantile(x, 0.25, axis=0),  # 1st quartile\n",
    "                                np.median(x,axis=0),           # 2nd quartile\n",
    "                                np.mean(x,axis=0),             # mean\n",
    "                                np.quantile(x, 0.75, axis=0),  # 3rd quartile\n",
    "                                np.max(x,axis=0)],             # maximum\n",
    "                               axis=0)\n",
    "        \"\"\"\n",
    "        Format the output.\n",
    "        ------------------\n",
    "\n",
    "        Printing multiple variables (columns) side by side requires that they fit inside the the line width\n",
    "        of the output cell. Therefore with more variables you'll need to introduces steps and print per step\n",
    "        a  fixed set  of columns.\n",
    "        \"\"\"\n",
    "\n",
    "        size = x.shape[1]                                           # number of variables (columns)\n",
    "        decimal_part = 3\n",
    "        num_widths = [                                              # number widths of all columns\n",
    "                       len(str(round(max(aggregates[:,i])))) +      # maximum width aggregate values\n",
    "                       decimal_part                                 # decimal part width \".00\"\n",
    "                       for i in range(aggregates.shape[0])]\n",
    "        line_width = np.get_printoptions()[\"linewidth\"]             # line width to fit output\n",
    "        gap = 5                                                     # space between column summaries\n",
    "        label_width = len(\"Min.  :\")                                # label width\n",
    "        step = line_width // (label_width + gap + max(num_widths))  # number of variables to print per row\n",
    "\n",
    "        for row in range(math.ceil(size/step)):\n",
    "            header = [s for s in np.arange(row*step,min(row*step + step,size) ).astype(\"str\")]\n",
    "            for tid in range(len(tags)):\n",
    "                line = [f\"{tags[tid]}: \" +  (f\"{aggregates[tid,i]:.2f}\".rjust(num_widths[tid]))\n",
    "                        for i in range(row*step, min(row*step + step,size) )]\n",
    "                if tid==0:\n",
    "                    print((\" \"*gap).join([str(header[i]).center(len(line[i])) for i in range(len(line))]))\n",
    "                print( (\" \" * gap).join(line) )\n",
    "    else:\n",
    "        raise Exception(\"Only 2-dimensional arrays are supported !\")"
   ],
   "metadata": {
    "collapsed": false
   }
  },
  {
   "cell_type": "markdown",
   "source": [
    "## Matrix multiplication\n",
    "\n",
    "Implement the function *mat_mult* which takes two 2-dimensional arrays and produces their product. Compare your results with the NumPy built-in operator '@'. Make sure that the function raises and exception if the matrix dimensions are incompatible."
   ],
   "metadata": {
    "collapsed": false
   }
  },
  {
   "cell_type": "code",
   "execution_count": null,
   "outputs": [],
   "source": [
    "a = rng.integers(0,10,6).reshape(3,2)\n",
    "b = rng.integers(0,10,6).reshape(2,3)"
   ],
   "metadata": {
    "collapsed": false
   }
  },
  {
   "cell_type": "code",
   "execution_count": null,
   "outputs": [],
   "source": [
    "def mat_mul(m1,m2):\n",
    "    \"\"\"\n",
    "    Use broadcast to speed up.\n",
    "    :param m1:\n",
    "    :param m2:\n",
    "    :return: matrix m1 multiplied by  m2\n",
    "    \"\"\"\n",
    "    if m1.shape[1]==m2.shape[0]:\n",
    "        return np.array([np.sum(x * m2.T, axis=1) for x in np.split(m1,m1.shape[0])])\n",
    "    else:\n",
    "        raise Exception(\"incompatible dimensions !\")\n",
    "\n",
    "def compatible_mats(x_rows=100,y_cols=200,xy=50, range_=10):\n",
    "    return rng.integers(0,range_,xy*x_rows).reshape(x_rows, xy),\\\n",
    "        rng.integers(0,range_,xy*y_cols).reshape(xy,y_cols)\n",
    "\n",
    "m1 = rng.integers(0,100,size=(5,7))\n",
    "m2 = rng.integers(0,100,size=(7,10))\n",
    "\n",
    "np.array_equal(mat_mul(m1,m2),  m1 @ m2)"
   ],
   "metadata": {
    "collapsed": false
   }
  },
  {
   "cell_type": "code",
   "execution_count": null,
   "outputs": [],
   "source": [
    "%timeit mat_mul(m1,m2)"
   ],
   "metadata": {
    "collapsed": false
   }
  },
  {
   "cell_type": "code",
   "execution_count": null,
   "outputs": [],
   "source": [
    "# built-in matrix multiplication\n",
    "%timeit m1 @ m2"
   ],
   "metadata": {
    "collapsed": false
   }
  },
  {
   "cell_type": "markdown",
   "source": [
    "## Covariance matrix\n",
    "\n",
    "Calculate the covariance matrix between two or more random variables:\n",
    "\n",
    "**Synopsis:** <tt>cov(x_1,...,x_n)</tt>\n",
    "   - input: x_1,..,x_n random variables\n",
    "   - return: nxn symmetric array\n",
    "\n",
    "The covariance $cov(X,Y) = E[XY] - E[X]E[Y]$.\n",
    "\n",
    "**Data** We generate random variables X and Y with a joint normal distribution given means and covariance matrix. This can be done with *.random.multivariate_normal*:"
   ],
   "metadata": {
    "collapsed": false
   }
  },
  {
   "cell_type": "code",
   "execution_count": null,
   "outputs": [],
   "source": [
    "cov = np.array([[1.5, .6], [ .6, .5]])  # covariance matrix\n",
    "X, Y = np.random.multivariate_normal(mean=(0,0), cov=cov, size=5000).T"
   ],
   "metadata": {
    "collapsed": false
   }
  },
  {
   "cell_type": "markdown",
   "source": [
    "Here is the scatter plot of our data:"
   ],
   "metadata": {
    "collapsed": false
   }
  },
  {
   "cell_type": "code",
   "execution_count": null,
   "outputs": [],
   "source": [
    "import matplotlib.pyplot as plt\n",
    "plt.scatter(X, Y, alpha=.5, s=.5);"
   ],
   "metadata": {
    "collapsed": false
   }
  },
  {
   "cell_type": "markdown",
   "source": [
    "Implement the function cov and compare the results with NumPy built-in function *np.cov*."
   ],
   "metadata": {
    "collapsed": false
   }
  },
  {
   "cell_type": "code",
   "execution_count": null,
   "outputs": [],
   "source": [
    "# Solution 1 : cov(X,Y) = E[XY] - E[X]E[Y].\n",
    "def cov(*args):\n",
    "    \"\"\"\n",
    "\n",
    "    :param args: random variables\n",
    "    :return: covariance matrix\n",
    "    \"\"\"\n",
    "    cov_ = [ np.mean(i*j) - np.mean(i)*np.mean(j) for i in args for j in args ]\n",
    "    return np.array(cov_).reshape(len(args), len(args))\n",
    "np.cov(X,Y, bias=True)"
   ],
   "metadata": {
    "collapsed": false
   }
  },
  {
   "cell_type": "code",
   "execution_count": null,
   "outputs": [],
   "source": [
    "# By default, np.cov computes the unbiased estimate (N-1).\n",
    "np.cov(X,Y, bias=False)"
   ],
   "metadata": {
    "collapsed": false
   }
  },
  {
   "cell_type": "markdown",
   "source": [
    "Below is the second solution with unbiased estimate:\n",
    "\n",
    "$$\\frac{1}{N-1} \\sum_{i=1}^N (x_i - \\overline{X}) (y_i - \\overline{Y})$$"
   ],
   "metadata": {
    "collapsed": false
   }
  },
  {
   "cell_type": "code",
   "execution_count": null,
   "outputs": [],
   "source": [
    "# Solution 2 : Unbiased estimate.\n",
    "def cov(*args, bias=False):\n",
    "    \"\"\"\n",
    "    :param args: random variables\n",
    "    :param bias: when False (default) then compute the unbiased estimate with\n",
    "    denominator (N-1), otherwise N.\n",
    "    :return: covariance matrix\n",
    "    \"\"\"\n",
    "\n",
    "    def sd(X, Y):\n",
    "        return sum([(x - np.mean(X))*(y - np.mean(Y)) for x,y in zip(X,Y)])/(len(X)-(1-bias) )\n",
    "    cov_ = [ sd(i,j)  for i in args for j in args ]\n",
    "    return np.array(cov_).reshape(len(args), len(args))\n",
    "\n",
    "cov(X,Y, bias=True)"
   ],
   "metadata": {
    "collapsed": false
   }
  }
 ],
 "metadata": {
  "kernelspec": {
   "display_name": "Python 3",
   "language": "python",
   "name": "python3"
  },
  "language_info": {
   "codemirror_mode": {
    "name": "ipython",
    "version": 2
   },
   "file_extension": ".py",
   "mimetype": "text/x-python",
   "name": "python",
   "nbconvert_exporter": "python",
   "pygments_lexer": "ipython2",
   "version": "2.7.6"
  }
 },
 "nbformat": 4,
 "nbformat_minor": 0
}
